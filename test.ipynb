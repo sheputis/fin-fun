{
 "cells": [
  {
   "cell_type": "code",
   "execution_count": 1,
   "id": "30f499ab",
   "metadata": {},
   "outputs": [],
   "source": [
    "# twelvedata API for more info https://github.com/twelvedata/twelvedata-python\n",
    "from twelvedata import TDClient\n",
    "td = TDClient(apikey=\"c7735dfefbfe4378848d2a516016b65e\")"
   ]
  },
  {
   "cell_type": "code",
   "execution_count": 13,
   "id": "901a4ee0",
   "metadata": {},
   "outputs": [],
   "source": [
    "# Construct the necessary time series\n",
    "ts = td.time_series(\n",
    "    symbol=\"EUR/USD\",\n",
    "    interval=\"1min\",\n",
    "    outputsize=10,\n",
    "    timezone=\"Europe/Berlin\",\n",
    ")"
   ]
  },
  {
   "cell_type": "code",
   "execution_count": 14,
   "id": "429b7890",
   "metadata": {},
   "outputs": [],
   "source": [
    "json_sample = ts.as_json()"
   ]
  },
  {
   "cell_type": "code",
   "execution_count": 15,
   "id": "c6ac24a0",
   "metadata": {},
   "outputs": [
    {
     "data": {
      "text/plain": [
       "({'datetime': '2023-04-26 21:17:00',\n",
       "  'open': '1.10360',\n",
       "  'high': '1.10360',\n",
       "  'low': '1.10350',\n",
       "  'close': '1.10350'},\n",
       " {'datetime': '2023-04-26 21:16:00',\n",
       "  'open': '1.10370',\n",
       "  'high': '1.10370',\n",
       "  'low': '1.10350',\n",
       "  'close': '1.10350'},\n",
       " {'datetime': '2023-04-26 21:15:00',\n",
       "  'open': '1.10390',\n",
       "  'high': '1.10390',\n",
       "  'low': '1.10370',\n",
       "  'close': '1.10370'},\n",
       " {'datetime': '2023-04-26 21:14:00',\n",
       "  'open': '1.10390',\n",
       "  'high': '1.10400',\n",
       "  'low': '1.10380',\n",
       "  'close': '1.10400'},\n",
       " {'datetime': '2023-04-26 21:13:00',\n",
       "  'open': '1.10395',\n",
       "  'high': '1.10395',\n",
       "  'low': '1.10380',\n",
       "  'close': '1.10380'},\n",
       " {'datetime': '2023-04-26 21:12:00',\n",
       "  'open': '1.10410',\n",
       "  'high': '1.10410',\n",
       "  'low': '1.10390',\n",
       "  'close': '1.10395'},\n",
       " {'datetime': '2023-04-26 21:11:00',\n",
       "  'open': '1.10400',\n",
       "  'high': '1.10410',\n",
       "  'low': '1.10400',\n",
       "  'close': '1.10410'},\n",
       " {'datetime': '2023-04-26 21:10:00',\n",
       "  'open': '1.10370',\n",
       "  'high': '1.10400',\n",
       "  'low': '1.10370',\n",
       "  'close': '1.10400'},\n",
       " {'datetime': '2023-04-26 21:09:00',\n",
       "  'open': '1.10390',\n",
       "  'high': '1.10400',\n",
       "  'low': '1.10380',\n",
       "  'close': '1.10380'},\n",
       " {'datetime': '2023-04-26 21:08:00',\n",
       "  'open': '1.10375',\n",
       "  'high': '1.10400',\n",
       "  'low': '1.10375',\n",
       "  'close': '1.10390'})"
      ]
     },
     "execution_count": 15,
     "metadata": {},
     "output_type": "execute_result"
    }
   ],
   "source": [
    "json_sample"
   ]
  },
  {
   "cell_type": "code",
   "execution_count": 16,
   "id": "5efe7fdf",
   "metadata": {},
   "outputs": [],
   "source": [
    "# Construct the necessary time series\n",
    "ts = td.time_series(\n",
    "    symbol=\"EUR/USD\",\n",
    "    interval=\"1min\",\n",
    "    outputsize=10,\n",
    "    timezone=\"Europe/Berlin\",\n",
    ")\n",
    "json_sample = ts.as_json()\n"
   ]
  },
  {
   "cell_type": "code",
   "execution_count": 19,
   "id": "ba4e5ff6",
   "metadata": {},
   "outputs": [
    {
     "ename": "AttributeError",
     "evalue": "'TimeSeries' object has no attribute 'with_vol'",
     "output_type": "error",
     "traceback": [
      "\u001b[0;31m---------------------------------------------------------------------------\u001b[0m",
      "\u001b[0;31mAttributeError\u001b[0m                            Traceback (most recent call last)",
      "Cell \u001b[0;32mIn[19], line 1\u001b[0m\n\u001b[0;32m----> 1\u001b[0m json_sample \u001b[38;5;241m=\u001b[39m \u001b[43mts\u001b[49m\u001b[38;5;241;43m.\u001b[39;49m\u001b[43mwith_vol\u001b[49m()\u001b[38;5;241m.\u001b[39mas_json()\n\u001b[1;32m      2\u001b[0m json_sample\n",
      "\u001b[0;31mAttributeError\u001b[0m: 'TimeSeries' object has no attribute 'with_vol'"
     ]
    }
   ],
   "source": []
  },
  {
   "cell_type": "code",
   "execution_count": null,
   "id": "41033ded",
   "metadata": {},
   "outputs": [],
   "source": []
  }
 ],
 "metadata": {
  "kernelspec": {
   "display_name": "Python 3 (ipykernel)",
   "language": "python",
   "name": "python3"
  },
  "language_info": {
   "codemirror_mode": {
    "name": "ipython",
    "version": 3
   },
   "file_extension": ".py",
   "mimetype": "text/x-python",
   "name": "python",
   "nbconvert_exporter": "python",
   "pygments_lexer": "ipython3",
   "version": "3.10.10"
  }
 },
 "nbformat": 4,
 "nbformat_minor": 5
}
